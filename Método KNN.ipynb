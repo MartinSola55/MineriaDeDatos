{
 "cells": [
  {
   "attachments": {},
   "cell_type": "markdown",
   "metadata": {},
   "source": []
  },
  {
   "cell_type": "code",
   "execution_count": 473,
   "metadata": {},
   "outputs": [],
   "source": [
    "# Importamos la biblioteca pandas para leer nuestros datos\n",
    "# con el alias 'pd'\n",
    "import pandas as pd \n",
    "\n",
    "# Importamos la función train_test_split de sklearn.model_selection \n",
    "# para dividir nuestros datos en conjuntos de entrenamiento y prueba \n",
    "from sklearn.model_selection import train_test_split\n",
    "\n",
    "# Importamos el StandardScaler para normalizar los datos.\n",
    "from sklearn.preprocessing import StandardScaler\n",
    "\n",
    "# Importamos el clasificador KNN de sklearn.neighbors \n",
    "# para la clasificación y la regresión\n",
    "from sklearn.neighbors import KNeighborsClassifier\n",
    "\n",
    "# Importamos las funciones classification_report y confusion_matrix \n",
    "# de sklearn.metrics para evaluar la precisión del modelo y \n",
    "# para visualizar los resultados de la clasificación\n",
    "from sklearn.metrics import f1_score, confusion_matrix, ConfusionMatrixDisplay\n",
    "\n",
    "from matplotlib import pyplot as plt\n",
    "\n",
    "path = \"data/\"\n",
    "\n",
    "#importamos el archivo csv\n",
    "data = pd.read_csv(path + \"data_to_analize.csv\", sep=',', encoding='utf-8', quotechar=\"'\")"
   ]
  },
  {
   "attachments": {},
   "cell_type": "markdown",
   "metadata": {},
   "source": []
  },
  {
   "cell_type": "code",
   "execution_count": null,
   "metadata": {},
   "outputs": [],
   "source": []
  },
  {
   "cell_type": "code",
   "execution_count": 474,
   "metadata": {},
   "outputs": [
    {
     "data": {
      "text/plain": [
       "\"mapeo_estado_civil = {\\n    'C': 1,\\n    'S': 2,\\n    'V': 3,\\n}\\ndata['EstadoCivil'] = data['EstadoCivil'].replace(mapeo_estado_civil)\\n\\nmapeo_genero = {\\n    'M': 1,\\n    'F': 2,\\n}\\ndata['Genero'] = data['Genero'].replace(mapeo_genero)\\n\\nmapeo_educacion = {\\n    'Educación secundaria': 1,\\n    'Educación secundaria (en curso)': 2,\\n    'Estudios de postgrado': 3,\\n    'Estudios universitarios (en curso)': 4,\\n    'Licenciatura': 5,\\n}\\ndata['Educacion'] = data['Educacion'].replace(mapeo_educacion)\\n\\nmapeo_ocupacion = {\\n    'Administrativo': 1,\\n    'Gestión': 2,\\n    'Obrero': 3,\\n    'Obrero especializado': 4,\\n    'Profesional': 5,\\n}\\ndata['Ocupacion'] = data['Ocupacion'].replace(mapeo_ocupacion)\\n\\nmapeo_distancia = {\\n    '0-1 Km.': 1,\\n    '1-2 Km.': 2,\\n    '2-5 Km.': 3,\\n    '5-10 Km.': 4,\\n    '10+ Km.': 5,\\n}\\ndata['Distancia'] = data['Distancia'].replace(mapeo_distancia)\\n\\nmapeo_region = {\\n    'Norte': 1,\\n    'Sur': 2,\\n    'Centro': 3,\\n    'Noroeste': 4,\\n}\\ndata['Region'] = data['Region'].replace(mapeo_region)\""
      ]
     },
     "execution_count": 474,
     "metadata": {},
     "output_type": "execute_result"
    }
   ],
   "source": [
    "\"\"\"mapeo_estado_civil = {\n",
    "    'C': 1,\n",
    "    'S': 2,\n",
    "    'V': 3,\n",
    "}\n",
    "data['EstadoCivil'] = data['EstadoCivil'].replace(mapeo_estado_civil)\n",
    "\n",
    "mapeo_genero = {\n",
    "    'M': 1,\n",
    "    'F': 2,\n",
    "}\n",
    "data['Genero'] = data['Genero'].replace(mapeo_genero)\n",
    "\n",
    "mapeo_educacion = {\n",
    "    'Educación secundaria': 1,\n",
    "    'Educación secundaria (en curso)': 2,\n",
    "    'Estudios de postgrado': 3,\n",
    "    'Estudios universitarios (en curso)': 4,\n",
    "    'Licenciatura': 5,\n",
    "}\n",
    "data['Educacion'] = data['Educacion'].replace(mapeo_educacion)\n",
    "\n",
    "mapeo_ocupacion = {\n",
    "    'Administrativo': 1,\n",
    "    'Gestión': 2,\n",
    "    'Obrero': 3,\n",
    "    'Obrero especializado': 4,\n",
    "    'Profesional': 5,\n",
    "}\n",
    "data['Ocupacion'] = data['Ocupacion'].replace(mapeo_ocupacion)\n",
    "\n",
    "mapeo_distancia = {\n",
    "    '0-1 Km.': 1,\n",
    "    '1-2 Km.': 2,\n",
    "    '2-5 Km.': 3,\n",
    "    '5-10 Km.': 4,\n",
    "    '10+ Km.': 5,\n",
    "}\n",
    "data['Distancia'] = data['Distancia'].replace(mapeo_distancia)\n",
    "\n",
    "mapeo_region = {\n",
    "    'Norte': 1,\n",
    "    'Sur': 2,\n",
    "    'Centro': 3,\n",
    "    'Noroeste': 4,\n",
    "}\n",
    "data['Region'] = data['Region'].replace(mapeo_region)\"\"\""
   ]
  },
  {
   "attachments": {},
   "cell_type": "markdown",
   "metadata": {},
   "source": []
  },
  {
   "cell_type": "code",
   "execution_count": 475,
   "metadata": {},
   "outputs": [],
   "source": [
    "#list_x = data.columns.to_list()\n",
    "\n",
    "list_x = ['Edad', 'IngresoAnual', 'TotalHijos', 'CantAutomoviles']\n",
    "scaler = StandardScaler()\n",
    "scaler.fit(data[list_x])\n",
    "\n",
    "X= scaler.transform(data[list_x])\n",
    "y = data.ComproBicicleta"
   ]
  },
  {
   "attachments": {},
   "cell_type": "markdown",
   "metadata": {},
   "source": []
  },
  {
   "cell_type": "code",
   "execution_count": 476,
   "metadata": {},
   "outputs": [],
   "source": [
    "X_train, X_test, y_train, y_test = train_test_split(X, y, test_size=0.25, random_state=17, stratify = y)"
   ]
  },
  {
   "attachments": {},
   "cell_type": "markdown",
   "metadata": {},
   "source": [
    "Entrenamos el modelo KNN mediante la clase KNeighborsClassifier. Usamos el parametro **weights** que ponderar los puntos por la inversa de su distancia. En este caso, los vecinos más cercanos de un punto de consulta tendrán una mayor influencia que los vecinos más alejados. \n",
    "Probamos valores de K entre 1 y 10 vecinos mas cercanos."
   ]
  },
  {
   "cell_type": "code",
   "execution_count": 477,
   "metadata": {},
   "outputs": [
    {
     "name": "stdout",
     "output_type": "stream",
     "text": [
      "_______________________________________\n",
      "K igual a 1: \n",
      "Accuracy de K-NN train: 0.76\n",
      "F1 de K-NN train: 0.75\n",
      "Accuracy de K-NN test: 0.69\n",
      "F1 de K-NN test: 0.68\n",
      "_______________________________________\n",
      "K igual a 2: \n",
      "Accuracy de K-NN train: 0.77\n",
      "F1 de K-NN train: 0.74\n",
      "Accuracy de K-NN test: 0.71\n",
      "F1 de K-NN test: 0.67\n",
      "_______________________________________\n",
      "K igual a 3: \n",
      "Accuracy de K-NN train: 0.80\n",
      "F1 de K-NN train: 0.78\n",
      "Accuracy de K-NN test: 0.71\n",
      "F1 de K-NN test: 0.69\n",
      "_______________________________________\n",
      "K igual a 4: \n",
      "Accuracy de K-NN train: 0.80\n",
      "F1 de K-NN train: 0.77\n",
      "Accuracy de K-NN test: 0.72\n",
      "F1 de K-NN test: 0.69\n",
      "_______________________________________\n",
      "K igual a 5: \n",
      "Accuracy de K-NN train: 0.81\n",
      "F1 de K-NN train: 0.79\n",
      "Accuracy de K-NN test: 0.72\n",
      "F1 de K-NN test: 0.70\n",
      "_______________________________________\n",
      "K igual a 6: \n",
      "Accuracy de K-NN train: 0.81\n",
      "F1 de K-NN train: 0.79\n",
      "Accuracy de K-NN test: 0.72\n",
      "F1 de K-NN test: 0.70\n",
      "_______________________________________\n",
      "K igual a 7: \n",
      "Accuracy de K-NN train: 0.81\n",
      "F1 de K-NN train: 0.79\n",
      "Accuracy de K-NN test: 0.72\n",
      "F1 de K-NN test: 0.70\n",
      "_______________________________________\n",
      "K igual a 8: \n",
      "Accuracy de K-NN train: 0.81\n",
      "F1 de K-NN train: 0.79\n",
      "Accuracy de K-NN test: 0.72\n",
      "F1 de K-NN test: 0.70\n",
      "_______________________________________\n",
      "K igual a 9: \n",
      "Accuracy de K-NN train: 0.81\n",
      "F1 de K-NN train: 0.80\n",
      "Accuracy de K-NN test: 0.73\n",
      "F1 de K-NN test: 0.71\n",
      "_______________________________________\n",
      "K igual a 10: \n",
      "Accuracy de K-NN train: 0.81\n",
      "F1 de K-NN train: 0.79\n",
      "Accuracy de K-NN test: 0.72\n",
      "F1 de K-NN test: 0.70\n",
      "_______________________________________\n",
      "K igual a 11: \n",
      "Accuracy de K-NN train: 0.81\n",
      "F1 de K-NN train: 0.80\n",
      "Accuracy de K-NN test: 0.73\n",
      "F1 de K-NN test: 0.71\n",
      "_______________________________________\n",
      "K igual a 12: \n",
      "Accuracy de K-NN train: 0.81\n",
      "F1 de K-NN train: 0.79\n",
      "Accuracy de K-NN test: 0.72\n",
      "F1 de K-NN test: 0.70\n",
      "_______________________________________\n",
      "K igual a 13: \n",
      "Accuracy de K-NN train: 0.81\n",
      "F1 de K-NN train: 0.80\n",
      "Accuracy de K-NN test: 0.73\n",
      "F1 de K-NN test: 0.70\n",
      "_______________________________________\n",
      "K igual a 14: \n",
      "Accuracy de K-NN train: 0.81\n",
      "F1 de K-NN train: 0.80\n",
      "Accuracy de K-NN test: 0.73\n",
      "F1 de K-NN test: 0.71\n"
     ]
    }
   ],
   "source": [
    "for k in range(1,15,1):\n",
    "  knn = KNeighborsClassifier(k, weights= \"distance\")\n",
    "  knn.fit(X_train, y_train)\n",
    "  pred_train = knn.predict(X_train)\n",
    "  pred_test = knn.predict(X_test)\n",
    "  print(\"_______________________________________\")\n",
    "  print(f\"K igual a {k}: \")\n",
    "  print(f'Accuracy de K-NN train: {knn.score(X_train, y_train):.2f}')\n",
    "  print(f\"F1 de K-NN train: {f1_score(y_train,pred_train, average='macro'):.2f}\")\n",
    "  print(f'Accuracy de K-NN test: {knn.score(X_test, y_test):.2f}')\n",
    "  print(f\"F1 de K-NN test: {f1_score(y_test, pred_test,average='macro'):.2f}\")"
   ]
  },
  {
   "attachments": {},
   "cell_type": "markdown",
   "metadata": {},
   "source": [
    "Seleccionamos K igual a 9 que nos da los mejores resultados en test."
   ]
  },
  {
   "cell_type": "code",
   "execution_count": 478,
   "metadata": {},
   "outputs": [
    {
     "data": {
      "text/html": [
       "<style>#sk-container-id-41 {color: black;background-color: white;}#sk-container-id-41 pre{padding: 0;}#sk-container-id-41 div.sk-toggleable {background-color: white;}#sk-container-id-41 label.sk-toggleable__label {cursor: pointer;display: block;width: 100%;margin-bottom: 0;padding: 0.3em;box-sizing: border-box;text-align: center;}#sk-container-id-41 label.sk-toggleable__label-arrow:before {content: \"▸\";float: left;margin-right: 0.25em;color: #696969;}#sk-container-id-41 label.sk-toggleable__label-arrow:hover:before {color: black;}#sk-container-id-41 div.sk-estimator:hover label.sk-toggleable__label-arrow:before {color: black;}#sk-container-id-41 div.sk-toggleable__content {max-height: 0;max-width: 0;overflow: hidden;text-align: left;background-color: #f0f8ff;}#sk-container-id-41 div.sk-toggleable__content pre {margin: 0.2em;color: black;border-radius: 0.25em;background-color: #f0f8ff;}#sk-container-id-41 input.sk-toggleable__control:checked~div.sk-toggleable__content {max-height: 200px;max-width: 100%;overflow: auto;}#sk-container-id-41 input.sk-toggleable__control:checked~label.sk-toggleable__label-arrow:before {content: \"▾\";}#sk-container-id-41 div.sk-estimator input.sk-toggleable__control:checked~label.sk-toggleable__label {background-color: #d4ebff;}#sk-container-id-41 div.sk-label input.sk-toggleable__control:checked~label.sk-toggleable__label {background-color: #d4ebff;}#sk-container-id-41 input.sk-hidden--visually {border: 0;clip: rect(1px 1px 1px 1px);clip: rect(1px, 1px, 1px, 1px);height: 1px;margin: -1px;overflow: hidden;padding: 0;position: absolute;width: 1px;}#sk-container-id-41 div.sk-estimator {font-family: monospace;background-color: #f0f8ff;border: 1px dotted black;border-radius: 0.25em;box-sizing: border-box;margin-bottom: 0.5em;}#sk-container-id-41 div.sk-estimator:hover {background-color: #d4ebff;}#sk-container-id-41 div.sk-parallel-item::after {content: \"\";width: 100%;border-bottom: 1px solid gray;flex-grow: 1;}#sk-container-id-41 div.sk-label:hover label.sk-toggleable__label {background-color: #d4ebff;}#sk-container-id-41 div.sk-serial::before {content: \"\";position: absolute;border-left: 1px solid gray;box-sizing: border-box;top: 0;bottom: 0;left: 50%;z-index: 0;}#sk-container-id-41 div.sk-serial {display: flex;flex-direction: column;align-items: center;background-color: white;padding-right: 0.2em;padding-left: 0.2em;position: relative;}#sk-container-id-41 div.sk-item {position: relative;z-index: 1;}#sk-container-id-41 div.sk-parallel {display: flex;align-items: stretch;justify-content: center;background-color: white;position: relative;}#sk-container-id-41 div.sk-item::before, #sk-container-id-41 div.sk-parallel-item::before {content: \"\";position: absolute;border-left: 1px solid gray;box-sizing: border-box;top: 0;bottom: 0;left: 50%;z-index: -1;}#sk-container-id-41 div.sk-parallel-item {display: flex;flex-direction: column;z-index: 1;position: relative;background-color: white;}#sk-container-id-41 div.sk-parallel-item:first-child::after {align-self: flex-end;width: 50%;}#sk-container-id-41 div.sk-parallel-item:last-child::after {align-self: flex-start;width: 50%;}#sk-container-id-41 div.sk-parallel-item:only-child::after {width: 0;}#sk-container-id-41 div.sk-dashed-wrapped {border: 1px dashed gray;margin: 0 0.4em 0.5em 0.4em;box-sizing: border-box;padding-bottom: 0.4em;background-color: white;}#sk-container-id-41 div.sk-label label {font-family: monospace;font-weight: bold;display: inline-block;line-height: 1.2em;}#sk-container-id-41 div.sk-label-container {text-align: center;}#sk-container-id-41 div.sk-container {/* jupyter's `normalize.less` sets `[hidden] { display: none; }` but bootstrap.min.css set `[hidden] { display: none !important; }` so we also need the `!important` here to be able to override the default hidden behavior on the sphinx rendered scikit-learn.org. See: https://github.com/scikit-learn/scikit-learn/issues/21755 */display: inline-block !important;position: relative;}#sk-container-id-41 div.sk-text-repr-fallback {display: none;}</style><div id=\"sk-container-id-41\" class=\"sk-top-container\"><div class=\"sk-text-repr-fallback\"><pre>KNeighborsClassifier(n_neighbors=9, weights=&#x27;distance&#x27;)</pre><b>In a Jupyter environment, please rerun this cell to show the HTML representation or trust the notebook. <br />On GitHub, the HTML representation is unable to render, please try loading this page with nbviewer.org.</b></div><div class=\"sk-container\" hidden><div class=\"sk-item\"><div class=\"sk-estimator sk-toggleable\"><input class=\"sk-toggleable__control sk-hidden--visually\" id=\"sk-estimator-id-41\" type=\"checkbox\" checked><label for=\"sk-estimator-id-41\" class=\"sk-toggleable__label sk-toggleable__label-arrow\">KNeighborsClassifier</label><div class=\"sk-toggleable__content\"><pre>KNeighborsClassifier(n_neighbors=9, weights=&#x27;distance&#x27;)</pre></div></div></div></div></div>"
      ],
      "text/plain": [
       "KNeighborsClassifier(n_neighbors=9, weights='distance')"
      ]
     },
     "execution_count": 478,
     "metadata": {},
     "output_type": "execute_result"
    }
   ],
   "source": [
    "knn = KNeighborsClassifier(9, weights= \"distance\")\n",
    "knn.fit(X_train, y_train)"
   ]
  },
  {
   "cell_type": "code",
   "execution_count": 479,
   "metadata": {},
   "outputs": [],
   "source": [
    "pred = knn.predict(X_test)"
   ]
  },
  {
   "cell_type": "code",
   "execution_count": 480,
   "metadata": {},
   "outputs": [
    {
     "data": {
      "image/png": "[encoded data removed]",
      "text/plain": [
       "<Figure size 640x480 with 2 Axes>"
      ]
     },
     "metadata": {},
     "output_type": "display_data"
    }
   ],
   "source": [
    "cm = confusion_matrix(y_test, pred)\n",
    "cm_display = ConfusionMatrixDisplay(cm, display_labels = knn.classes_)\n",
    "cm_display.plot()\n",
    "\n",
    "plt.xlabel('Valores predichos')\n",
    "plt.ylabel('Valores verdaderos')\n",
    "plt.show()"
   ]
  },
  {
   "attachments": {},
   "cell_type": "markdown",
   "metadata": {},
   "source": [
    "Importamos el DataFrame con los datos de los destinatarios"
   ]
  },
  {
   "cell_type": "code",
   "execution_count": 481,
   "metadata": {},
   "outputs": [],
   "source": [
    "#importamos el archivo csv\n",
    "destinatarios = pd.read_csv(path + \"destinatarios.csv\", sep=',', encoding='utf-8', quotechar=\"'\")"
   ]
  },
  {
   "attachments": {},
   "cell_type": "markdown",
   "metadata": {},
   "source": []
  },
  {
   "cell_type": "code",
   "execution_count": 482,
   "metadata": {},
   "outputs": [],
   "source": [
    "destinatarios_scaled = scaler.transform(destinatarios[list_x])"
   ]
  },
  {
   "attachments": {},
   "cell_type": "markdown",
   "metadata": {},
   "source": []
  },
  {
   "cell_type": "code",
   "execution_count": 483,
   "metadata": {},
   "outputs": [],
   "source": [
    "prediccion = knn.predict(destinatarios_scaled)[0]"
   ]
  },
  {
   "attachments": {},
   "cell_type": "markdown",
   "metadata": {},
   "source": []
  },
  {
   "cell_type": "code",
   "execution_count": 484,
   "metadata": {},
   "outputs": [],
   "source": [
    "destinatarios['ComproBicicleta'] = prediccion"
   ]
  },
  {
   "attachments": {},
   "cell_type": "markdown",
   "metadata": {},
   "source": []
  },
  {
   "cell_type": "code",
   "execution_count": 485,
   "metadata": {},
   "outputs": [],
   "source": [
    "X_train_original = scaler.inverse_transform(X_train)\n",
    "X_train_original = pd.DataFrame(data= X_train_original,columns = list_x )\n",
    "X_train_original[\"ComproBicicleta\"] = y"
   ]
  },
  {
   "attachments": {},
   "cell_type": "markdown",
   "metadata": {},
   "source": []
  },
  {
   "cell_type": "code",
   "execution_count": 486,
   "metadata": {},
   "outputs": [],
   "source": [
    "X_train_original[\"Datos\"] = \"Original\"\n",
    "destinatarios[\"Datos\"] = \"Nueva\"\n",
    "\n",
    "data = pd.concat([X_train_original, destinatarios])"
   ]
  },
  {
   "cell_type": "code",
   "execution_count": 487,
   "metadata": {},
   "outputs": [],
   "source": [
    "import seaborn as sns"
   ]
  },
  {
   "cell_type": "code",
   "execution_count": 488,
   "metadata": {},
   "outputs": [
    {
     "data": {
      "image/png": "[encoded data removed]",
      "text/plain": [
       "<Figure size 640x480 with 1 Axes>"
      ]
     },
     "metadata": {},
     "output_type": "display_data"
    }
   ],
   "source": [
    "sns.scatterplot(data = data, x = \"Edad\", y = \"ComproBicicleta\", hue = \"Edad\", style = \"Datos\")\n",
    "plt.title(\"Scatterplot de RI vs Na\")\n",
    "plt.show()"
   ]
  }
 ],
 "metadata": {
  "kernelspec": {
   "display_name": "Python 3",
   "language": "python",
   "name": "python3"
  },
  "language_info": {
   "codemirror_mode": {
    "name": "ipython",
    "version": 3
   },
   "file_extension": ".py",
   "mimetype": "text/x-python",
   "name": "python",
   "nbconvert_exporter": "python",
   "pygments_lexer": "ipython3",
   "version": "3.11.2"
  },
  "orig_nbformat": 4
 },
 "nbformat": 4,
 "nbformat_minor": 2
}
